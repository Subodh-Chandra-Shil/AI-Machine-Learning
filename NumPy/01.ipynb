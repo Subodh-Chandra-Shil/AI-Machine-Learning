{
 "cells": [
  {
   "cell_type": "markdown",
   "metadata": {},
   "source": [
    "#### **```NumPy```**"
   ]
  },
  {
   "cell_type": "code",
   "execution_count": 2,
   "metadata": {},
   "outputs": [],
   "source": [
    "import numpy as np"
   ]
  },
  {
   "cell_type": "code",
   "execution_count": 7,
   "metadata": {},
   "outputs": [
    {
     "name": "stdout",
     "output_type": "stream",
     "text": [
      "[[1 2 3 4]\n",
      " [5 6 7 8]]\n"
     ]
    }
   ],
   "source": [
    "twoD_array = np.array([(1, 2, 3, 4), (5, 6, 7, 8)])\n",
    "print(twoD_array)"
   ]
  },
  {
   "cell_type": "code",
   "execution_count": 8,
   "metadata": {},
   "outputs": [
    {
     "data": {
      "text/plain": [
       "(2, 4)"
      ]
     },
     "execution_count": 8,
     "metadata": {},
     "output_type": "execute_result"
    }
   ],
   "source": [
    "twoD_array.shape"
   ]
  },
  {
   "cell_type": "markdown",
   "metadata": {},
   "source": [
    "Initial placeholders"
   ]
  },
  {
   "cell_type": "code",
   "execution_count": 5,
   "metadata": {},
   "outputs": [
    {
     "name": "stdout",
     "output_type": "stream",
     "text": [
      "[[0. 0. 0. 0. 0.]\n",
      " [0. 0. 0. 0. 0.]\n",
      " [0. 0. 0. 0. 0.]\n",
      " [0. 0. 0. 0. 0.]]\n"
     ]
    }
   ],
   "source": [
    "# array initialized with all zeros\n",
    "x = np.zeros((4, 5))\n",
    "print(x)"
   ]
  },
  {
   "cell_type": "code",
   "execution_count": 22,
   "metadata": {},
   "outputs": [
    {
     "name": "stdout",
     "output_type": "stream",
     "text": [
      "[[33 33 33 33 33]\n",
      " [33 33 33 33 33]\n",
      " [33 33 33 33 33]\n",
      " [33 33 33 33 33]]\n"
     ]
    }
   ],
   "source": [
    "# array initialized with a particular value\n",
    "y = np.full((4, 5), 33)\n",
    "print(y)"
   ]
  },
  {
   "cell_type": "code",
   "execution_count": 23,
   "metadata": {},
   "outputs": [
    {
     "name": "stdout",
     "output_type": "stream",
     "text": [
      "[[1. 0. 0. 0. 0. 0.]\n",
      " [0. 1. 0. 0. 0. 0.]\n",
      " [0. 0. 1. 0. 0. 0.]\n",
      " [0. 0. 0. 1. 0. 0.]\n",
      " [0. 0. 0. 0. 1. 0.]\n",
      " [0. 0. 0. 0. 0. 1.]]\n"
     ]
    }
   ],
   "source": [
    "# Identity matrix: matrix that have an equal number of rows and columns \n",
    "z = np.eye(6)\n",
    "print(z)"
   ]
  },
  {
   "cell_type": "code",
   "execution_count": 24,
   "metadata": {},
   "outputs": [
    {
     "name": "stdout",
     "output_type": "stream",
     "text": [
      "[[0.82831441 0.15674588 0.73284363 0.64878308 0.02846341 0.32305393]\n",
      " [0.86957338 0.31947373 0.57893757 0.83959708 0.98452689 0.1037959 ]\n",
      " [0.4170586  0.95230876 0.07508509 0.62793439 0.06655223 0.65978389]\n",
      " [0.5893525  0.09204255 0.21045216 0.27657333 0.03195808 0.9666506 ]\n",
      " [0.81226119 0.12480964 0.91051134 0.86032837 0.56720578 0.45872702]]\n"
     ]
    }
   ],
   "source": [
    "# array with random floating point values\n",
    "randMatrix1 = np.random.random((5, 6))\n",
    "print(randMatrix1)"
   ]
  },
  {
   "cell_type": "code",
   "execution_count": 25,
   "metadata": {},
   "outputs": [
    {
     "name": "stdout",
     "output_type": "stream",
     "text": [
      "[[170 151 160 167 145]\n",
      " [116 110 111 166 168]\n",
      " [123 170 188 113 120]\n",
      " [106 128 157 135 107]]\n"
     ]
    }
   ],
   "source": [
    "# array with random integer values within a specific range\n",
    "randMatrix2 = np.random.randint(100, 200, (4, 5))\n",
    "print(randMatrix2)"
   ]
  },
  {
   "cell_type": "code",
   "execution_count": 26,
   "metadata": {},
   "outputs": [
    {
     "name": "stdout",
     "output_type": "stream",
     "text": [
      "[10. 12. 14. 16. 18. 20. 22. 24. 26. 28. 30.]\n"
     ]
    }
   ],
   "source": [
    "# array with evenly spaced values -> number of values required\n",
    "evenlySpacedArray = np.linspace(10, 30, 11)\n",
    "print(evenlySpacedArray)"
   ]
  },
  {
   "cell_type": "code",
   "execution_count": 27,
   "metadata": {},
   "outputs": [
    {
     "name": "stdout",
     "output_type": "stream",
     "text": [
      "[10 12 14 16 18 20 22 24 26 28]\n"
     ]
    }
   ],
   "source": [
    "# array with evenly spaced values -> specifying the number of steps\n",
    "sequenceArray = np.arange(10, 30, 2)\n",
    "print(sequenceArray)"
   ]
  }
 ],
 "metadata": {
  "kernelspec": {
   "display_name": "Python 3",
   "language": "python",
   "name": "python3"
  },
  "language_info": {
   "codemirror_mode": {
    "name": "ipython",
    "version": 3
   },
   "file_extension": ".py",
   "mimetype": "text/x-python",
   "name": "python",
   "nbconvert_exporter": "python",
   "pygments_lexer": "ipython3",
   "version": "3.11.5"
  }
 },
 "nbformat": 4,
 "nbformat_minor": 2
}
