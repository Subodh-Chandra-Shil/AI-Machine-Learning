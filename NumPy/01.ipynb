{
 "cells": [
  {
   "cell_type": "markdown",
   "metadata": {},
   "source": [
    "#### **```NumPy```**"
   ]
  },
  {
   "cell_type": "code",
   "execution_count": 1,
   "metadata": {},
   "outputs": [],
   "source": [
    "import numpy as np"
   ]
  },
  {
   "cell_type": "code",
   "execution_count": 2,
   "metadata": {},
   "outputs": [
    {
     "name": "stdout",
     "output_type": "stream",
     "text": [
      "[[1 2 3 4]\n",
      " [5 6 7 8]]\n"
     ]
    }
   ],
   "source": [
    "twoD_array = np.array([(1, 2, 3, 4), (5, 6, 7, 8)])\n",
    "print(twoD_array)"
   ]
  },
  {
   "cell_type": "code",
   "execution_count": 3,
   "metadata": {},
   "outputs": [
    {
     "data": {
      "text/plain": [
       "(2, 4)"
      ]
     },
     "execution_count": 3,
     "metadata": {},
     "output_type": "execute_result"
    }
   ],
   "source": [
    "twoD_array.shape"
   ]
  },
  {
   "cell_type": "code",
   "execution_count": 4,
   "metadata": {},
   "outputs": [
    {
     "name": "stdout",
     "output_type": "stream",
     "text": [
      "2\n"
     ]
    }
   ],
   "source": [
    "# check dimensions of an array\n",
    "print(twoD_array.ndim)"
   ]
  },
  {
   "cell_type": "code",
   "execution_count": 5,
   "metadata": {},
   "outputs": [
    {
     "name": "stdout",
     "output_type": "stream",
     "text": [
      "8\n"
     ]
    }
   ],
   "source": [
    "# number of elements in an array\n",
    "print(twoD_array.size)"
   ]
  },
  {
   "cell_type": "code",
   "execution_count": 6,
   "metadata": {},
   "outputs": [
    {
     "name": "stdout",
     "output_type": "stream",
     "text": [
      "int64\n"
     ]
    }
   ],
   "source": [
    "# check data type\n",
    "print(twoD_array.dtype)"
   ]
  },
  {
   "cell_type": "markdown",
   "metadata": {},
   "source": [
    "```Convert 2D or multidimensional array into 1D array```"
   ]
  },
  {
   "cell_type": "code",
   "execution_count": 7,
   "metadata": {},
   "outputs": [
    {
     "name": "stdout",
     "output_type": "stream",
     "text": [
      "[[9 6]\n",
      " [7 8]\n",
      " [7 8]]\n",
      "[9 6 7 8 7 8]\n"
     ]
    }
   ],
   "source": [
    "multi_array = np.random.randint(5, 10, (3, 2))\n",
    "print(multi_array)\n",
    "\n",
    "# convert into 1D array\n",
    "single_D_array = multi_array.flatten()\n",
    "print(single_D_array)"
   ]
  },
  {
   "cell_type": "markdown",
   "metadata": {},
   "source": [
    "Initial placeholders"
   ]
  },
  {
   "cell_type": "code",
   "execution_count": 8,
   "metadata": {},
   "outputs": [
    {
     "name": "stdout",
     "output_type": "stream",
     "text": [
      "[[0. 0. 0. 0. 0.]\n",
      " [0. 0. 0. 0. 0.]\n",
      " [0. 0. 0. 0. 0.]\n",
      " [0. 0. 0. 0. 0.]]\n"
     ]
    }
   ],
   "source": [
    "# array initialized with all zeros\n",
    "x = np.zeros((4, 5))\n",
    "print(x)"
   ]
  },
  {
   "cell_type": "code",
   "execution_count": 9,
   "metadata": {},
   "outputs": [
    {
     "name": "stdout",
     "output_type": "stream",
     "text": [
      "[[33 33 33 33 33]\n",
      " [33 33 33 33 33]\n",
      " [33 33 33 33 33]\n",
      " [33 33 33 33 33]]\n"
     ]
    }
   ],
   "source": [
    "# array initialized with a particular value\n",
    "y = np.full((4, 5), 33)\n",
    "print(y)"
   ]
  },
  {
   "cell_type": "code",
   "execution_count": 10,
   "metadata": {},
   "outputs": [
    {
     "name": "stdout",
     "output_type": "stream",
     "text": [
      "[[1. 0. 0. 0. 0. 0.]\n",
      " [0. 1. 0. 0. 0. 0.]\n",
      " [0. 0. 1. 0. 0. 0.]\n",
      " [0. 0. 0. 1. 0. 0.]\n",
      " [0. 0. 0. 0. 1. 0.]\n",
      " [0. 0. 0. 0. 0. 1.]]\n"
     ]
    }
   ],
   "source": [
    "# Identity matrix: matrix that have an equal number of rows and columns \n",
    "z = np.eye(6)\n",
    "print(z)"
   ]
  },
  {
   "cell_type": "code",
   "execution_count": 11,
   "metadata": {},
   "outputs": [
    {
     "name": "stdout",
     "output_type": "stream",
     "text": [
      "[[0.56785416 0.27193852 0.06164816 0.57658489 0.19343946 0.19226107]\n",
      " [0.96799658 0.76774287 0.43271139 0.84682594 0.88630867 0.99830563]\n",
      " [0.30690988 0.81393493 0.61499979 0.3997269  0.84031393 0.57907104]\n",
      " [0.34414071 0.13069238 0.93393454 0.93182439 0.0225516  0.11238463]\n",
      " [0.56605133 0.60112594 0.74507762 0.27733109 0.39846746 0.05928209]]\n"
     ]
    }
   ],
   "source": [
    "# array with random floating point values\n",
    "randMatrix1 = np.random.random((5, 6))\n",
    "print(randMatrix1)"
   ]
  },
  {
   "cell_type": "code",
   "execution_count": 12,
   "metadata": {},
   "outputs": [
    {
     "name": "stdout",
     "output_type": "stream",
     "text": [
      "[[138 192 113 104 107]\n",
      " [100 197 158 149 110]\n",
      " [144 110 187 195 194]\n",
      " [187 111 114 108 188]]\n"
     ]
    }
   ],
   "source": [
    "# array with random integer values within a specific range\n",
    "randMatrix2 = np.random.randint(100, 200, (4, 5))\n",
    "print(randMatrix2)"
   ]
  },
  {
   "cell_type": "code",
   "execution_count": 13,
   "metadata": {},
   "outputs": [
    {
     "name": "stdout",
     "output_type": "stream",
     "text": [
      "[10. 12. 14. 16. 18. 20. 22. 24. 26. 28. 30.]\n"
     ]
    }
   ],
   "source": [
    "# array with evenly spaced values -> number of values required\n",
    "evenlySpacedArray = np.linspace(10, 30, 11)\n",
    "print(evenlySpacedArray)"
   ]
  },
  {
   "cell_type": "code",
   "execution_count": 14,
   "metadata": {},
   "outputs": [
    {
     "name": "stdout",
     "output_type": "stream",
     "text": [
      "[10 12 14 16 18 20 22 24 26 28]\n"
     ]
    }
   ],
   "source": [
    "# array with evenly spaced values -> specifying the number of steps\n",
    "sequenceArray = np.arange(10, 30, 2)\n",
    "print(sequenceArray)"
   ]
  },
  {
   "cell_type": "code",
   "execution_count": 15,
   "metadata": {},
   "outputs": [
    {
     "name": "stdout",
     "output_type": "stream",
     "text": [
      "[10 20 30 40 50]\n"
     ]
    },
    {
     "data": {
      "text/plain": [
       "numpy.ndarray"
      ]
     },
     "execution_count": 15,
     "metadata": {},
     "output_type": "execute_result"
    }
   ],
   "source": [
    "# convert regular python list into numpy array\n",
    "list2 = [10, 20, 30, 40, 50]\n",
    "np_array = np.asarray(list2)\n",
    "print(np_array)\n",
    "type(np_array)"
   ]
  },
  {
   "cell_type": "markdown",
   "metadata": {},
   "source": [
    "#### ```Mathematical operations```"
   ]
  },
  {
   "cell_type": "code",
   "execution_count": 16,
   "metadata": {},
   "outputs": [
    {
     "name": "stdout",
     "output_type": "stream",
     "text": [
      "[11 22 33 44]\n",
      "[ 10  40  90 160]\n"
     ]
    }
   ],
   "source": [
    "list1 = np.array([1, 2, 3, 4])\n",
    "list2 = np.array([10, 20, 30, 40])\n",
    "\n",
    "# concatenation\n",
    "print(list1 + list2)\n",
    "print(list1 * list2)"
   ]
  },
  {
   "cell_type": "code",
   "execution_count": 17,
   "metadata": {},
   "outputs": [
    {
     "name": "stdout",
     "output_type": "stream",
     "text": [
      "[[11 22 33]\n",
      " [44 55 66]]\n",
      "[[ -9 -18 -27]\n",
      " [-36 -45 -54]]\n",
      "[[ 10  40  90]\n",
      " [160 250 360]]\n",
      "[[0.1 0.1 0.1]\n",
      " [0.1 0.1 0.1]]\n"
     ]
    }
   ],
   "source": [
    "list2D_1 = np.array([(1, 2, 3), (4, 5, 6)])\n",
    "list2D_2 = np.array([(10, 20, 30), (40, 50, 60)])\n",
    "print(list2D_1 + list2D_2)\n",
    "print(list2D_1 - list2D_2)\n",
    "print(list2D_1 * list2D_2)\n",
    "print(list2D_1 / list2D_2)"
   ]
  },
  {
   "cell_type": "code",
   "execution_count": 18,
   "metadata": {},
   "outputs": [],
   "source": [
    "a = np.random.randint(10, 20, (3, 3))\n",
    "b = np.random.randint(30, 40, (3, 3))"
   ]
  },
  {
   "cell_type": "code",
   "execution_count": 19,
   "metadata": {},
   "outputs": [
    {
     "name": "stdout",
     "output_type": "stream",
     "text": [
      "[[51 45 50]\n",
      " [50 50 48]\n",
      " [43 47 48]]\n",
      "[[-13 -21 -14]\n",
      " [-20 -20 -16]\n",
      " [-21 -17 -24]]\n",
      "[[608 396 576]\n",
      " [525 525 512]\n",
      " [352 480 432]]\n",
      "[[0.59375    0.36363636 0.5625    ]\n",
      " [0.42857143 0.42857143 0.5       ]\n",
      " [0.34375    0.46875    0.33333333]]\n"
     ]
    }
   ],
   "source": [
    "print(np.add(a, b))\n",
    "print(np.subtract(a, b))\n",
    "print(np.multiply(a, b))\n",
    "print(np.divide(a, b))"
   ]
  },
  {
   "cell_type": "code",
   "execution_count": 20,
   "metadata": {},
   "outputs": [
    {
     "name": "stdout",
     "output_type": "stream",
     "text": [
      "[[10 29]\n",
      " [25 25]\n",
      " [21 14]]\n",
      "[[10 25 21]\n",
      " [29 25 14]]\n",
      "[[10 25 21]\n",
      " [29 25 14]]\n"
     ]
    }
   ],
   "source": [
    "# Transpose matrix: A matrix that obtained by interchanging the rows and columns.\n",
    "matrix = np.random.randint(10, 30, (3, 2))\n",
    "print(matrix)\n",
    "\n",
    "# initializing matrix as transpose matrix\n",
    "transpose_mat = matrix.T\n",
    "print(transpose_mat)\n",
    "\n",
    "# converting the existing matrix into a transpose matrix\n",
    "matrix = matrix.T\n",
    "print(matrix)"
   ]
  },
  {
   "cell_type": "markdown",
   "metadata": {},
   "source": [
    "```Reshaping an array```"
   ]
  },
  {
   "cell_type": "code",
   "execution_count": 21,
   "metadata": {},
   "outputs": [
    {
     "name": "stdout",
     "output_type": "stream",
     "text": [
      "[[ 9  8 14]\n",
      " [13 12 13]\n",
      " [13  5  5]\n",
      " [12 11 11]]\n",
      "[[ 9  8 14 13]\n",
      " [12 13 13  5]\n",
      " [ 5 12 11 11]]\n"
     ]
    }
   ],
   "source": [
    "a = np.random.randint(5, 15, (4, 3))\n",
    "print(a)\n",
    "b = a.reshape(3, 4)\n",
    "print(b)"
   ]
  }
 ],
 "metadata": {
  "kernelspec": {
   "display_name": "Python 3",
   "language": "python",
   "name": "python3"
  },
  "language_info": {
   "codemirror_mode": {
    "name": "ipython",
    "version": 3
   },
   "file_extension": ".py",
   "mimetype": "text/x-python",
   "name": "python",
   "nbconvert_exporter": "python",
   "pygments_lexer": "ipython3",
   "version": "3.10.12"
  }
 },
 "nbformat": 4,
 "nbformat_minor": 2
}
