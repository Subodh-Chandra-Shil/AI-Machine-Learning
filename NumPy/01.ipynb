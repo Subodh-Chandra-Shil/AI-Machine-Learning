{
 "cells": [
  {
   "cell_type": "markdown",
   "metadata": {},
   "source": [
    "#### **```NumPy```**"
   ]
  },
  {
   "cell_type": "code",
   "execution_count": 2,
   "metadata": {},
   "outputs": [],
   "source": [
    "import numpy as np"
   ]
  },
  {
   "cell_type": "code",
   "execution_count": 32,
   "metadata": {},
   "outputs": [
    {
     "name": "stdout",
     "output_type": "stream",
     "text": [
      "[[1 2 3 4]\n",
      " [5 6 7 8]]\n"
     ]
    }
   ],
   "source": [
    "twoD_array = np.array([(1, 2, 3, 4), (5, 6, 7, 8)])\n",
    "print(twoD_array)"
   ]
  },
  {
   "cell_type": "code",
   "execution_count": 33,
   "metadata": {},
   "outputs": [
    {
     "data": {
      "text/plain": [
       "(2, 4)"
      ]
     },
     "execution_count": 33,
     "metadata": {},
     "output_type": "execute_result"
    }
   ],
   "source": [
    "twoD_array.shape"
   ]
  },
  {
   "cell_type": "code",
   "execution_count": 34,
   "metadata": {},
   "outputs": [
    {
     "name": "stdout",
     "output_type": "stream",
     "text": [
      "2\n"
     ]
    }
   ],
   "source": [
    "# check dimensions of an array\n",
    "print(twoD_array.ndim)"
   ]
  },
  {
   "cell_type": "code",
   "execution_count": 35,
   "metadata": {},
   "outputs": [
    {
     "name": "stdout",
     "output_type": "stream",
     "text": [
      "8\n"
     ]
    }
   ],
   "source": [
    "# number of elements in an array\n",
    "print(twoD_array.size)"
   ]
  },
  {
   "cell_type": "code",
   "execution_count": 36,
   "metadata": {},
   "outputs": [
    {
     "name": "stdout",
     "output_type": "stream",
     "text": [
      "int32\n"
     ]
    }
   ],
   "source": [
    "# check data type\n",
    "print(twoD_array.dtype)"
   ]
  },
  {
   "cell_type": "markdown",
   "metadata": {},
   "source": [
    "```Convert 2D or multidimensional array into 1D array```"
   ]
  },
  {
   "cell_type": "code",
   "execution_count": 55,
   "metadata": {},
   "outputs": [
    {
     "name": "stdout",
     "output_type": "stream",
     "text": [
      "[[6 6]\n",
      " [5 5]\n",
      " [9 6]]\n",
      "[6 6 5 5 9 6]\n"
     ]
    }
   ],
   "source": [
    "multi_array = np.random.randint(5, 10, (3, 2))\n",
    "print(multi_array)\n",
    "\n",
    "# convert into 1D array\n",
    "single_D_array = multi_array.flatten()\n",
    "print(single_D_array)"
   ]
  },
  {
   "cell_type": "markdown",
   "metadata": {},
   "source": [
    "Initial placeholders"
   ]
  },
  {
   "cell_type": "code",
   "execution_count": 5,
   "metadata": {},
   "outputs": [
    {
     "name": "stdout",
     "output_type": "stream",
     "text": [
      "[[0. 0. 0. 0. 0.]\n",
      " [0. 0. 0. 0. 0.]\n",
      " [0. 0. 0. 0. 0.]\n",
      " [0. 0. 0. 0. 0.]]\n"
     ]
    }
   ],
   "source": [
    "# array initialized with all zeros\n",
    "x = np.zeros((4, 5))\n",
    "print(x)"
   ]
  },
  {
   "cell_type": "code",
   "execution_count": 22,
   "metadata": {},
   "outputs": [
    {
     "name": "stdout",
     "output_type": "stream",
     "text": [
      "[[33 33 33 33 33]\n",
      " [33 33 33 33 33]\n",
      " [33 33 33 33 33]\n",
      " [33 33 33 33 33]]\n"
     ]
    }
   ],
   "source": [
    "# array initialized with a particular value\n",
    "y = np.full((4, 5), 33)\n",
    "print(y)"
   ]
  },
  {
   "cell_type": "code",
   "execution_count": 23,
   "metadata": {},
   "outputs": [
    {
     "name": "stdout",
     "output_type": "stream",
     "text": [
      "[[1. 0. 0. 0. 0. 0.]\n",
      " [0. 1. 0. 0. 0. 0.]\n",
      " [0. 0. 1. 0. 0. 0.]\n",
      " [0. 0. 0. 1. 0. 0.]\n",
      " [0. 0. 0. 0. 1. 0.]\n",
      " [0. 0. 0. 0. 0. 1.]]\n"
     ]
    }
   ],
   "source": [
    "# Identity matrix: matrix that have an equal number of rows and columns \n",
    "z = np.eye(6)\n",
    "print(z)"
   ]
  },
  {
   "cell_type": "code",
   "execution_count": 24,
   "metadata": {},
   "outputs": [
    {
     "name": "stdout",
     "output_type": "stream",
     "text": [
      "[[0.82831441 0.15674588 0.73284363 0.64878308 0.02846341 0.32305393]\n",
      " [0.86957338 0.31947373 0.57893757 0.83959708 0.98452689 0.1037959 ]\n",
      " [0.4170586  0.95230876 0.07508509 0.62793439 0.06655223 0.65978389]\n",
      " [0.5893525  0.09204255 0.21045216 0.27657333 0.03195808 0.9666506 ]\n",
      " [0.81226119 0.12480964 0.91051134 0.86032837 0.56720578 0.45872702]]\n"
     ]
    }
   ],
   "source": [
    "# array with random floating point values\n",
    "randMatrix1 = np.random.random((5, 6))\n",
    "print(randMatrix1)"
   ]
  },
  {
   "cell_type": "code",
   "execution_count": 25,
   "metadata": {},
   "outputs": [
    {
     "name": "stdout",
     "output_type": "stream",
     "text": [
      "[[170 151 160 167 145]\n",
      " [116 110 111 166 168]\n",
      " [123 170 188 113 120]\n",
      " [106 128 157 135 107]]\n"
     ]
    }
   ],
   "source": [
    "# array with random integer values within a specific range\n",
    "randMatrix2 = np.random.randint(100, 200, (4, 5))\n",
    "print(randMatrix2)"
   ]
  },
  {
   "cell_type": "code",
   "execution_count": 26,
   "metadata": {},
   "outputs": [
    {
     "name": "stdout",
     "output_type": "stream",
     "text": [
      "[10. 12. 14. 16. 18. 20. 22. 24. 26. 28. 30.]\n"
     ]
    }
   ],
   "source": [
    "# array with evenly spaced values -> number of values required\n",
    "evenlySpacedArray = np.linspace(10, 30, 11)\n",
    "print(evenlySpacedArray)"
   ]
  },
  {
   "cell_type": "code",
   "execution_count": 27,
   "metadata": {},
   "outputs": [
    {
     "name": "stdout",
     "output_type": "stream",
     "text": [
      "[10 12 14 16 18 20 22 24 26 28]\n"
     ]
    }
   ],
   "source": [
    "# array with evenly spaced values -> specifying the number of steps\n",
    "sequenceArray = np.arange(10, 30, 2)\n",
    "print(sequenceArray)"
   ]
  },
  {
   "cell_type": "code",
   "execution_count": 30,
   "metadata": {},
   "outputs": [
    {
     "name": "stdout",
     "output_type": "stream",
     "text": [
      "[10 20 30 40 50]\n"
     ]
    },
    {
     "data": {
      "text/plain": [
       "numpy.ndarray"
      ]
     },
     "execution_count": 30,
     "metadata": {},
     "output_type": "execute_result"
    }
   ],
   "source": [
    "# convert regular python list into numpy array\n",
    "list2 = [10, 20, 30, 40, 50]\n",
    "np_array = np.asarray(list2)\n",
    "print(np_array)\n",
    "type(np_array)"
   ]
  },
  {
   "cell_type": "markdown",
   "metadata": {},
   "source": [
    "#### ```Mathematical operations```"
   ]
  },
  {
   "cell_type": "code",
   "execution_count": 41,
   "metadata": {},
   "outputs": [
    {
     "name": "stdout",
     "output_type": "stream",
     "text": [
      "[11 22 33 44]\n",
      "[ 10  40  90 160]\n"
     ]
    }
   ],
   "source": [
    "list1 = np.array([1, 2, 3, 4])\n",
    "list2 = np.array([10, 20, 30, 40])\n",
    "\n",
    "# concatenation\n",
    "print(list1 + list2)\n",
    "print(list1 * list2)"
   ]
  },
  {
   "cell_type": "code",
   "execution_count": 42,
   "metadata": {},
   "outputs": [
    {
     "name": "stdout",
     "output_type": "stream",
     "text": [
      "[[11 22 33]\n",
      " [44 55 66]]\n",
      "[[ -9 -18 -27]\n",
      " [-36 -45 -54]]\n",
      "[[ 10  40  90]\n",
      " [160 250 360]]\n",
      "[[0.1 0.1 0.1]\n",
      " [0.1 0.1 0.1]]\n"
     ]
    }
   ],
   "source": [
    "list2D_1 = np.array([(1, 2, 3), (4, 5, 6)])\n",
    "list2D_2 = np.array([(10, 20, 30), (40, 50, 60)])\n",
    "print(list2D_1 + list2D_2)\n",
    "print(list2D_1 - list2D_2)\n",
    "print(list2D_1 * list2D_2)\n",
    "print(list2D_1 / list2D_2)"
   ]
  },
  {
   "cell_type": "code",
   "execution_count": 46,
   "metadata": {},
   "outputs": [],
   "source": [
    "a = np.random.randint(10, 20, (3, 3))\n",
    "b = np.random.randint(30, 40, (3, 3))"
   ]
  },
  {
   "cell_type": "code",
   "execution_count": 49,
   "metadata": {},
   "outputs": [
    {
     "name": "stdout",
     "output_type": "stream",
     "text": [
      "[[49 51 45]\n",
      " [50 43 48]\n",
      " [53 44 48]]\n",
      "[[-29 -25 -19]\n",
      " [-12 -19 -22]\n",
      " [-23 -16 -12]]\n",
      "[[390 494 416]\n",
      " [589 372 455]\n",
      " [570 420 540]]\n",
      "[[0.25641026 0.34210526 0.40625   ]\n",
      " [0.61290323 0.38709677 0.37142857]\n",
      " [0.39473684 0.46666667 0.6       ]]\n"
     ]
    }
   ],
   "source": [
    "print(np.add(a, b))\n",
    "print(np.subtract(a, b))\n",
    "print(np.multiply(a, b))\n",
    "print(np.divide(a, b))"
   ]
  },
  {
   "cell_type": "code",
   "execution_count": 52,
   "metadata": {},
   "outputs": [
    {
     "name": "stdout",
     "output_type": "stream",
     "text": [
      "[[15 23]\n",
      " [25 29]\n",
      " [29 18]]\n",
      "[[15 25 29]\n",
      " [23 29 18]]\n",
      "[[15 25 29]\n",
      " [23 29 18]]\n"
     ]
    }
   ],
   "source": [
    "# Transpose matrix: A matrix that obtained by interchanging the rows and columns.\n",
    "matrix = np.random.randint(10, 30, (3, 2))\n",
    "print(matrix)\n",
    "\n",
    "# initializing matrix as transpose matrix\n",
    "transpose_mat = matrix.T\n",
    "print(transpose_mat)\n",
    "\n",
    "# converting the existing matrix into a transpose matrix\n",
    "matrix = matrix.T\n",
    "print(matrix)"
   ]
  },
  {
   "cell_type": "markdown",
   "metadata": {},
   "source": [
    "```Reshaping an array```"
   ]
  },
  {
   "cell_type": "code",
   "execution_count": 60,
   "metadata": {},
   "outputs": [
    {
     "name": "stdout",
     "output_type": "stream",
     "text": [
      "[[ 7 12 10]\n",
      " [11  7  7]\n",
      " [ 5  5 13]\n",
      " [14 10  7]]\n",
      "[[ 7 12 10 11]\n",
      " [ 7  7  5  5]\n",
      " [13 14 10  7]]\n"
     ]
    }
   ],
   "source": [
    "a = np.random.randint(5, 15, (4, 3))\n",
    "print(a)\n",
    "b = a.reshape(3, 4)\n",
    "print(b)"
   ]
  }
 ],
 "metadata": {
  "kernelspec": {
   "display_name": "Python 3",
   "language": "python",
   "name": "python3"
  },
  "language_info": {
   "codemirror_mode": {
    "name": "ipython",
    "version": 3
   },
   "file_extension": ".py",
   "mimetype": "text/x-python",
   "name": "python",
   "nbconvert_exporter": "python",
   "pygments_lexer": "ipython3",
   "version": "3.11.5"
  }
 },
 "nbformat": 4,
 "nbformat_minor": 2
}
