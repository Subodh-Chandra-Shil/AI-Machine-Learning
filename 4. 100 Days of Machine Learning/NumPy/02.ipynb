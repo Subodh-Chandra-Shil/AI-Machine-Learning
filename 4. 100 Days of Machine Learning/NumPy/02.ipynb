{
 "cells": [
  {
   "cell_type": "markdown",
   "metadata": {},
   "source": [
    "Generate array [0 ... 5] using numpy"
   ]
  },
  {
   "cell_type": "code",
   "execution_count": 79,
   "metadata": {},
   "outputs": [],
   "source": [
    "import numpy as np"
   ]
  },
  {
   "cell_type": "code",
   "execution_count": 80,
   "metadata": {},
   "outputs": [
    {
     "data": {
      "text/plain": [
       "array([0, 1, 2, 3, 4, 5])"
      ]
     },
     "execution_count": 80,
     "metadata": {},
     "output_type": "execute_result"
    }
   ],
   "source": [
    "generate_array = np.arange(6)\n",
    "generate_array"
   ]
  },
  {
   "cell_type": "markdown",
   "metadata": {},
   "source": [
    "Generate array of 5 zeros"
   ]
  },
  {
   "cell_type": "code",
   "execution_count": 81,
   "metadata": {},
   "outputs": [
    {
     "data": {
      "text/plain": [
       "array([0., 0., 0., 0., 0.])"
      ]
     },
     "execution_count": 81,
     "metadata": {},
     "output_type": "execute_result"
    }
   ],
   "source": [
    "allZeroes = np.zeros(5)\n",
    "allZeroes"
   ]
  },
  {
   "cell_type": "code",
   "execution_count": 82,
   "metadata": {},
   "outputs": [
    {
     "data": {
      "text/plain": [
       "array([[0, 0, 0, 0],\n",
       "       [0, 0, 0, 0],\n",
       "       [0, 0, 0, 0]])"
      ]
     },
     "execution_count": 82,
     "metadata": {},
     "output_type": "execute_result"
    }
   ],
   "source": [
    "matrixWithZeros = np.array([(0, 0, 0, 0), (0, 0, 0, 0), (0, 0, 0, 0)])\n",
    "matrixWithZeros"
   ]
  },
  {
   "cell_type": "code",
   "execution_count": 83,
   "metadata": {},
   "outputs": [
    {
     "data": {
      "text/plain": [
       "array([[0., 0., 0., 0.],\n",
       "       [0., 0., 0., 0.],\n",
       "       [0., 0., 0., 0.]])"
      ]
     },
     "execution_count": 83,
     "metadata": {},
     "output_type": "execute_result"
    }
   ],
   "source": [
    "matrixWithZeros2 = np.zeros((3, 4))\n",
    "matrixWithZeros2"
   ]
  },
  {
   "cell_type": "markdown",
   "metadata": {},
   "source": [
    "07"
   ]
  },
  {
   "cell_type": "code",
   "execution_count": 84,
   "metadata": {},
   "outputs": [
    {
     "data": {
      "text/plain": [
       "array([1, 1, 1, 1, 1])"
      ]
     },
     "execution_count": 84,
     "metadata": {},
     "output_type": "execute_result"
    }
   ],
   "source": [
    "builtinOne = np.array([1] * 5)\n",
    "builtinOne"
   ]
  },
  {
   "cell_type": "code",
   "execution_count": 85,
   "metadata": {},
   "outputs": [
    {
     "data": {
      "text/plain": [
       "array([10, 10, 10, 10, 10])"
      ]
     },
     "execution_count": 85,
     "metadata": {},
     "output_type": "execute_result"
    }
   ],
   "source": [
    "builtin10 = np.array([10] * 5)\n",
    "builtin10"
   ]
  },
  {
   "cell_type": "markdown",
   "metadata": {},
   "source": [
    "09"
   ]
  },
  {
   "cell_type": "code",
   "execution_count": 86,
   "metadata": {},
   "outputs": [
    {
     "data": {
      "text/plain": [
       "array([50, 52, 54, 56, 58, 60, 62, 64, 66, 68, 70, 72, 74, 76, 78, 80, 82,\n",
       "       84, 86, 88, 90, 92, 94, 96, 98])"
      ]
     },
     "execution_count": 86,
     "metadata": {},
     "output_type": "execute_result"
    }
   ],
   "source": [
    "evenNumbersInRange = np.arange(50, 100, 2)\n",
    "evenNumbersInRange"
   ]
  },
  {
   "cell_type": "code",
   "execution_count": 87,
   "metadata": {},
   "outputs": [
    {
     "name": "stdout",
     "output_type": "stream",
     "text": [
      "[0.         0.11111111 0.22222222 0.33333333 0.44444444 0.55555556\n",
      " 0.66666667 0.77777778 0.88888889 1.        ]\n"
     ]
    }
   ],
   "source": [
    "# Generate an array of 10 linearly spaced points between 0 and 1\n",
    "\n",
    "arrayWithFloatingPoints = np.linspace(0, 1, 10)\n",
    "# arrayWithFloatingPoints\n",
    "print(arrayWithFloatingPoints)"
   ]
  },
  {
   "cell_type": "code",
   "execution_count": 88,
   "metadata": {},
   "outputs": [
    {
     "data": {
      "text/plain": [
       "array([ 0,  1,  2,  3,  4,  5,  6,  7,  8,  9, 10, 11, 12, 13, 14, 15, 16,\n",
       "       17, 18, 19, 20, 21, 22, 23, 24])"
      ]
     },
     "execution_count": 88,
     "metadata": {},
     "output_type": "execute_result"
    }
   ],
   "source": [
    "# 11 \n",
    "\n",
    "# Creating the vector of 25 numbers\n",
    "number_till_25 = np.arange(0, 25)\n",
    "number_till_25\n"
   ]
  },
  {
   "cell_type": "code",
   "execution_count": 89,
   "metadata": {},
   "outputs": [
    {
     "data": {
      "text/plain": [
       "array([[ 0,  1,  2,  3,  4],\n",
       "       [ 5,  6,  7,  8,  9],\n",
       "       [10, 11, 12, 13, 14],\n",
       "       [15, 16, 17, 18, 19],\n",
       "       [20, 21, 22, 23, 24]])"
      ]
     },
     "execution_count": 89,
     "metadata": {},
     "output_type": "execute_result"
    }
   ],
   "source": [
    "# now converting into 2D \n",
    "number_till_25 = number_till_25.reshape(5, 5)\n",
    "number_till_25"
   ]
  },
  {
   "cell_type": "code",
   "execution_count": 90,
   "metadata": {},
   "outputs": [
    {
     "data": {
      "text/plain": [
       "(5, 5)"
      ]
     },
     "execution_count": 90,
     "metadata": {},
     "output_type": "execute_result"
    }
   ],
   "source": [
    "# use of shape \n",
    "number_till_25.shape\n",
    "\n",
    "# as we can see, the shape is not a typical function to perform dimensional conversion, rather it only shows the current dimension of the matrix  "
   ]
  },
  {
   "cell_type": "code",
   "execution_count": 91,
   "metadata": {},
   "outputs": [
    {
     "data": {
      "text/plain": [
       "matrix([[0.1, 0.2, 0.3, 0.4, 0.5],\n",
       "        [0.6, 0.7, 0.8, 0.9, 1. ],\n",
       "        [1.1, 1.2, 1.3, 1.4, 1.5],\n",
       "        [1.6, 1.7, 1.8, 1.9, 2. ],\n",
       "        [2.1, 2.2, 2.3, 2.4, 2.5]])"
      ]
     },
     "execution_count": 91,
     "metadata": {},
     "output_type": "execute_result"
    }
   ],
   "source": [
    "# 12 \n",
    "matrix_floating = np.matrix(np.linspace(0.1, 2.5, 25).reshape(5, 5))\n",
    "matrix_floating"
   ]
  },
  {
   "cell_type": "code",
   "execution_count": 92,
   "metadata": {},
   "outputs": [
    {
     "data": {
      "text/plain": [
       "matrix([[ 0,  1,  2,  3,  4],\n",
       "        [ 5,  6,  7,  8,  9],\n",
       "        [10, 11, 12, 13, 14],\n",
       "        [15, 16, 17, 18, 19],\n",
       "        [20, 21, 22, 23, 24]])"
      ]
     },
     "execution_count": 92,
     "metadata": {},
     "output_type": "execute_result"
    }
   ],
   "source": [
    "# 13\n",
    "array = np.matrix(np.linspace(0, 24, 25).reshape(5, 5))\n",
    "array = array.astype(int)\n",
    "array"
   ]
  },
  {
   "cell_type": "code",
   "execution_count": 93,
   "metadata": {},
   "outputs": [],
   "source": [
    "# 14\n",
    "\n",
    "# linspace: linspace refers to Linearly Spaced Elements which takes a range and generates the evenly spaced floating point values\n",
    "\n",
    "# arange: arange function is responsible for generating integer values within a range with a default step value 1"
   ]
  },
  {
   "cell_type": "code",
   "execution_count": 94,
   "metadata": {},
   "outputs": [
    {
     "data": {
      "text/plain": [
       "7"
      ]
     },
     "execution_count": 94,
     "metadata": {},
     "output_type": "execute_result"
    }
   ],
   "source": [
    "# 15 \n",
    "\n",
    "random_integer = np.random.randint(0, 10)\n",
    "random_integer"
   ]
  },
  {
   "cell_type": "code",
   "execution_count": 95,
   "metadata": {},
   "outputs": [
    {
     "data": {
      "text/plain": [
       "array([[0.9988964 , 0.76244562, 0.05792891, 0.64044223, 0.39766437],\n",
       "       [0.71191776, 0.17505661, 0.71430692, 0.00301362, 0.45928619],\n",
       "       [0.51990725, 0.65507206, 0.86706158, 0.94393037, 0.88125072],\n",
       "       [0.84971757, 0.13130811, 0.70559108, 0.72873982, 0.52354997],\n",
       "       [0.28155679, 0.93761785, 0.92569597, 0.11811456, 0.69498394],\n",
       "       [0.49070347, 0.77012248, 0.19938984, 0.15475125, 0.80109734],\n",
       "       [0.98260605, 0.55550817, 0.38545312, 0.31895332, 0.7296293 ]])"
      ]
     },
     "execution_count": 95,
     "metadata": {},
     "output_type": "execute_result"
    }
   ],
   "source": [
    "# 16 Write a code to generate a 7x5 matrix of 35 random numbers? use rand here\n",
    "matrix_floating = np.random.rand(7, 5)\n",
    "matrix_floating"
   ]
  },
  {
   "cell_type": "code",
   "execution_count": 96,
   "metadata": {},
   "outputs": [
    {
     "data": {
      "text/plain": [
       "array([[5., 0., 0., 0., 0.],\n",
       "       [0., 5., 0., 0., 0.],\n",
       "       [0., 0., 5., 0., 0.],\n",
       "       [0., 0., 0., 5., 0.],\n",
       "       [0., 0., 0., 0., 5.]])"
      ]
     },
     "execution_count": 96,
     "metadata": {},
     "output_type": "execute_result"
    }
   ],
   "source": [
    "# 17\n",
    "identity_matrix = np.identity(5)\n",
    "np.fill_diagonal(identity_matrix, 5)\n",
    "identity_matrix"
   ]
  }
 ],
 "metadata": {
  "kernelspec": {
   "display_name": "Python 3",
   "language": "python",
   "name": "python3"
  },
  "language_info": {
   "codemirror_mode": {
    "name": "ipython",
    "version": 3
   },
   "file_extension": ".py",
   "mimetype": "text/x-python",
   "name": "python",
   "nbconvert_exporter": "python",
   "pygments_lexer": "ipython3",
   "version": "3.11.5"
  }
 },
 "nbformat": 4,
 "nbformat_minor": 2
}
