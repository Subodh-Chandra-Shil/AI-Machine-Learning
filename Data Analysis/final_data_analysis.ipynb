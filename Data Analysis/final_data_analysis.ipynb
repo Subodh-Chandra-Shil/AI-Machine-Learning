{
  "cells": [
    {
      "cell_type": "code",
      "execution_count": 46,
      "metadata": {
        "id": "hBTP0-iMYbAL"
      },
      "outputs": [],
      "source": [
        "import numpy as np\n",
        "import pandas as pd\n",
        "import matplotlib.pyplot as plt\n",
        "import warnings\n",
        "warnings.filterwarnings('ignore')"
      ]
    },
    {
      "cell_type": "code",
      "execution_count": 47,
      "metadata": {
        "colab": {
          "base_uri": "https://localhost:8080/"
        },
        "id": "3vtVde7aYnAS",
        "outputId": "6924fe68-7255-418e-8f81-51026b8331ec"
      },
      "outputs": [],
      "source": [
        "# from google.colab import drive\n",
        "# drive.mount('/content/drive')"
      ]
    },
    {
      "cell_type": "code",
      "execution_count": 48,
      "metadata": {
        "colab": {
          "base_uri": "https://localhost:8080/",
          "height": 759
        },
        "id": "TfiwDDrzY1Zi",
        "outputId": "e453ca8f-041a-4a97-ca42-77d8b3b4c9f9"
      },
      "outputs": [
        {
          "data": {
            "text/html": [
              "<div>\n",
              "<style scoped>\n",
              "    .dataframe tbody tr th:only-of-type {\n",
              "        vertical-align: middle;\n",
              "    }\n",
              "\n",
              "    .dataframe tbody tr th {\n",
              "        vertical-align: top;\n",
              "    }\n",
              "\n",
              "    .dataframe thead th {\n",
              "        text-align: right;\n",
              "    }\n",
              "</style>\n",
              "<table border=\"1\" class=\"dataframe\">\n",
              "  <thead>\n",
              "    <tr style=\"text-align: right;\">\n",
              "      <th></th>\n",
              "      <th>Date</th>\n",
              "      <th>Temp9am</th>\n",
              "      <th>Temp3pm</th>\n",
              "      <th>MinTemp</th>\n",
              "      <th>MaxTemp</th>\n",
              "      <th>Rainfall</th>\n",
              "      <th>RainToday</th>\n",
              "      <th>Evaporation</th>\n",
              "      <th>Sunshine</th>\n",
              "      <th>WindGustDir</th>\n",
              "      <th>...</th>\n",
              "      <th>WindDir9am</th>\n",
              "      <th>WindDir3pm</th>\n",
              "      <th>WindSpeed9am</th>\n",
              "      <th>WindSpeed3pm</th>\n",
              "      <th>Humidity9am</th>\n",
              "      <th>Humidity3pm</th>\n",
              "      <th>Pressure9am</th>\n",
              "      <th>Pressure3pm</th>\n",
              "      <th>Cloud9am</th>\n",
              "      <th>Cloud3pm</th>\n",
              "    </tr>\n",
              "  </thead>\n",
              "  <tbody>\n",
              "    <tr>\n",
              "      <th>756</th>\n",
              "      <td>27-02-15</td>\n",
              "      <td>22.4</td>\n",
              "      <td>25.1</td>\n",
              "      <td>20.9</td>\n",
              "      <td>26.7</td>\n",
              "      <td>14.0</td>\n",
              "      <td>No</td>\n",
              "      <td>3.4</td>\n",
              "      <td>6.2</td>\n",
              "      <td>W</td>\n",
              "      <td>...</td>\n",
              "      <td>NNW</td>\n",
              "      <td>NE</td>\n",
              "      <td>2</td>\n",
              "      <td>15</td>\n",
              "      <td>90</td>\n",
              "      <td>77</td>\n",
              "      <td>1011.9</td>\n",
              "      <td>1010.8</td>\n",
              "      <td>6</td>\n",
              "      <td>3</td>\n",
              "    </tr>\n",
              "    <tr>\n",
              "      <th>1672</th>\n",
              "      <td>31-08-17</td>\n",
              "      <td>21.0</td>\n",
              "      <td>23.8</td>\n",
              "      <td>16.4</td>\n",
              "      <td>25.4</td>\n",
              "      <td>0.0</td>\n",
              "      <td>No</td>\n",
              "      <td>5.2</td>\n",
              "      <td>10.8</td>\n",
              "      <td>ENE</td>\n",
              "      <td>...</td>\n",
              "      <td>ESE</td>\n",
              "      <td>E</td>\n",
              "      <td>9</td>\n",
              "      <td>28</td>\n",
              "      <td>67</td>\n",
              "      <td>63</td>\n",
              "      <td>1018.8</td>\n",
              "      <td>1014.8</td>\n",
              "      <td>5</td>\n",
              "      <td>1</td>\n",
              "    </tr>\n",
              "    <tr>\n",
              "      <th>575</th>\n",
              "      <td>30-08-14</td>\n",
              "      <td>16.1</td>\n",
              "      <td>19.2</td>\n",
              "      <td>11.1</td>\n",
              "      <td>22.0</td>\n",
              "      <td>0.0</td>\n",
              "      <td>No</td>\n",
              "      <td>4.2</td>\n",
              "      <td>10.7</td>\n",
              "      <td>W</td>\n",
              "      <td>...</td>\n",
              "      <td>W</td>\n",
              "      <td>ESE</td>\n",
              "      <td>13</td>\n",
              "      <td>19</td>\n",
              "      <td>49</td>\n",
              "      <td>36</td>\n",
              "      <td>1021.6</td>\n",
              "      <td>1019.6</td>\n",
              "      <td>1</td>\n",
              "      <td>1</td>\n",
              "    </tr>\n",
              "    <tr>\n",
              "      <th>57</th>\n",
              "      <td>30-03-13</td>\n",
              "      <td>16.7</td>\n",
              "      <td>21.7</td>\n",
              "      <td>14.4</td>\n",
              "      <td>22.9</td>\n",
              "      <td>0.2</td>\n",
              "      <td>No</td>\n",
              "      <td>4.8</td>\n",
              "      <td>9.3</td>\n",
              "      <td>W</td>\n",
              "      <td>...</td>\n",
              "      <td>W</td>\n",
              "      <td>E</td>\n",
              "      <td>15</td>\n",
              "      <td>15</td>\n",
              "      <td>85</td>\n",
              "      <td>65</td>\n",
              "      <td>1015.4</td>\n",
              "      <td>1011.2</td>\n",
              "      <td>3</td>\n",
              "      <td>2</td>\n",
              "    </tr>\n",
              "    <tr>\n",
              "      <th>628</th>\n",
              "      <td>22-10-14</td>\n",
              "      <td>19.7</td>\n",
              "      <td>20.9</td>\n",
              "      <td>16.8</td>\n",
              "      <td>22.1</td>\n",
              "      <td>0.0</td>\n",
              "      <td>No</td>\n",
              "      <td>7.0</td>\n",
              "      <td>9.2</td>\n",
              "      <td>W</td>\n",
              "      <td>...</td>\n",
              "      <td>SSE</td>\n",
              "      <td>E</td>\n",
              "      <td>17</td>\n",
              "      <td>19</td>\n",
              "      <td>63</td>\n",
              "      <td>56</td>\n",
              "      <td>1019.5</td>\n",
              "      <td>1016.3</td>\n",
              "      <td>4</td>\n",
              "      <td>1</td>\n",
              "    </tr>\n",
              "    <tr>\n",
              "      <th>2233</th>\n",
              "      <td>15-03-19</td>\n",
              "      <td>9.7</td>\n",
              "      <td>20.1</td>\n",
              "      <td>6.5</td>\n",
              "      <td>22.4</td>\n",
              "      <td>0.0</td>\n",
              "      <td>No</td>\n",
              "      <td>2.6</td>\n",
              "      <td>10.1</td>\n",
              "      <td>W</td>\n",
              "      <td>...</td>\n",
              "      <td>W</td>\n",
              "      <td>NE</td>\n",
              "      <td>20</td>\n",
              "      <td>11</td>\n",
              "      <td>64</td>\n",
              "      <td>43</td>\n",
              "      <td>1032.6</td>\n",
              "      <td>1026.2</td>\n",
              "      <td>1</td>\n",
              "      <td>1</td>\n",
              "    </tr>\n",
              "    <tr>\n",
              "      <th>2659</th>\n",
              "      <td>14-05-20</td>\n",
              "      <td>20.1</td>\n",
              "      <td>22.7</td>\n",
              "      <td>16.9</td>\n",
              "      <td>23.3</td>\n",
              "      <td>3.4</td>\n",
              "      <td>No</td>\n",
              "      <td>1.4</td>\n",
              "      <td>8.3</td>\n",
              "      <td>NE</td>\n",
              "      <td>...</td>\n",
              "      <td>W</td>\n",
              "      <td>NE</td>\n",
              "      <td>6</td>\n",
              "      <td>20</td>\n",
              "      <td>75</td>\n",
              "      <td>60</td>\n",
              "      <td>1026.8</td>\n",
              "      <td>1025.2</td>\n",
              "      <td>7</td>\n",
              "      <td>1</td>\n",
              "    </tr>\n",
              "    <tr>\n",
              "      <th>927</th>\n",
              "      <td>17-08-15</td>\n",
              "      <td>14.9</td>\n",
              "      <td>16.8</td>\n",
              "      <td>10.5</td>\n",
              "      <td>17.6</td>\n",
              "      <td>0.0</td>\n",
              "      <td>No</td>\n",
              "      <td>2.2</td>\n",
              "      <td>8.2</td>\n",
              "      <td>W</td>\n",
              "      <td>...</td>\n",
              "      <td>W</td>\n",
              "      <td>E</td>\n",
              "      <td>4</td>\n",
              "      <td>15</td>\n",
              "      <td>70</td>\n",
              "      <td>56</td>\n",
              "      <td>1027.1</td>\n",
              "      <td>1024.3</td>\n",
              "      <td>3</td>\n",
              "      <td>2</td>\n",
              "    </tr>\n",
              "    <tr>\n",
              "      <th>1959</th>\n",
              "      <td>14-06-18</td>\n",
              "      <td>16.6</td>\n",
              "      <td>19.1</td>\n",
              "      <td>15.0</td>\n",
              "      <td>21.4</td>\n",
              "      <td>0.0</td>\n",
              "      <td>No</td>\n",
              "      <td>9.8</td>\n",
              "      <td>4.3</td>\n",
              "      <td>ESE</td>\n",
              "      <td>...</td>\n",
              "      <td>W</td>\n",
              "      <td>ESE</td>\n",
              "      <td>0</td>\n",
              "      <td>20</td>\n",
              "      <td>58</td>\n",
              "      <td>47</td>\n",
              "      <td>1028.0</td>\n",
              "      <td>1026.5</td>\n",
              "      <td>7</td>\n",
              "      <td>5</td>\n",
              "    </tr>\n",
              "    <tr>\n",
              "      <th>2257</th>\n",
              "      <td>08-04-19</td>\n",
              "      <td>12.5</td>\n",
              "      <td>14.9</td>\n",
              "      <td>12.0</td>\n",
              "      <td>16.1</td>\n",
              "      <td>3.2</td>\n",
              "      <td>Yes</td>\n",
              "      <td>3.8</td>\n",
              "      <td>2.7</td>\n",
              "      <td>SSW</td>\n",
              "      <td>...</td>\n",
              "      <td>SW</td>\n",
              "      <td>SW</td>\n",
              "      <td>20</td>\n",
              "      <td>22</td>\n",
              "      <td>89</td>\n",
              "      <td>84</td>\n",
              "      <td>1023.9</td>\n",
              "      <td>1021.7</td>\n",
              "      <td>8</td>\n",
              "      <td>7</td>\n",
              "    </tr>\n",
              "  </tbody>\n",
              "</table>\n",
              "<p>10 rows × 21 columns</p>\n",
              "</div>"
            ],
            "text/plain": [
              "          Date  Temp9am  Temp3pm  MinTemp  MaxTemp  Rainfall RainToday  \\\n",
              "756   27-02-15     22.4     25.1     20.9     26.7      14.0        No   \n",
              "1672  31-08-17     21.0     23.8     16.4     25.4       0.0        No   \n",
              "575   30-08-14     16.1     19.2     11.1     22.0       0.0        No   \n",
              "57    30-03-13     16.7     21.7     14.4     22.9       0.2        No   \n",
              "628   22-10-14     19.7     20.9     16.8     22.1       0.0        No   \n",
              "2233  15-03-19      9.7     20.1      6.5     22.4       0.0        No   \n",
              "2659  14-05-20     20.1     22.7     16.9     23.3       3.4        No   \n",
              "927   17-08-15     14.9     16.8     10.5     17.6       0.0        No   \n",
              "1959  14-06-18     16.6     19.1     15.0     21.4       0.0        No   \n",
              "2257  08-04-19     12.5     14.9     12.0     16.1       3.2       Yes   \n",
              "\n",
              "      Evaporation  Sunshine WindGustDir  ...  WindDir9am WindDir3pm  \\\n",
              "756           3.4       6.2           W  ...         NNW         NE   \n",
              "1672          5.2      10.8         ENE  ...         ESE          E   \n",
              "575           4.2      10.7           W  ...           W        ESE   \n",
              "57            4.8       9.3           W  ...           W          E   \n",
              "628           7.0       9.2           W  ...         SSE          E   \n",
              "2233          2.6      10.1           W  ...           W         NE   \n",
              "2659          1.4       8.3          NE  ...           W         NE   \n",
              "927           2.2       8.2           W  ...           W          E   \n",
              "1959          9.8       4.3         ESE  ...           W        ESE   \n",
              "2257          3.8       2.7         SSW  ...          SW         SW   \n",
              "\n",
              "     WindSpeed9am  WindSpeed3pm  Humidity9am  Humidity3pm  Pressure9am  \\\n",
              "756             2            15           90           77       1011.9   \n",
              "1672            9            28           67           63       1018.8   \n",
              "575            13            19           49           36       1021.6   \n",
              "57             15            15           85           65       1015.4   \n",
              "628            17            19           63           56       1019.5   \n",
              "2233           20            11           64           43       1032.6   \n",
              "2659            6            20           75           60       1026.8   \n",
              "927             4            15           70           56       1027.1   \n",
              "1959            0            20           58           47       1028.0   \n",
              "2257           20            22           89           84       1023.9   \n",
              "\n",
              "      Pressure3pm  Cloud9am  Cloud3pm  \n",
              "756        1010.8         6         3  \n",
              "1672       1014.8         5         1  \n",
              "575        1019.6         1         1  \n",
              "57         1011.2         3         2  \n",
              "628        1016.3         4         1  \n",
              "2233       1026.2         1         1  \n",
              "2659       1025.2         7         1  \n",
              "927        1024.3         3         2  \n",
              "1959       1026.5         7         5  \n",
              "2257       1021.7         8         7  \n",
              "\n",
              "[10 rows x 21 columns]"
            ]
          },
          "execution_count": 48,
          "metadata": {},
          "output_type": "execute_result"
        }
      ],
      "source": [
        "df = pd.read_csv('Weather_Data.csv')\n",
        "df.sample(10)"
      ]
    },
    {
      "cell_type": "code",
      "execution_count": 49,
      "metadata": {
        "colab": {
          "base_uri": "https://localhost:8080/"
        },
        "id": "vWfIMH7XZNhy",
        "outputId": "8d45f6ce-238b-484a-fa46-5e78991e2134"
      },
      "outputs": [
        {
          "name": "stdout",
          "output_type": "stream",
          "text": [
            "<class 'pandas.core.frame.DataFrame'>\n",
            "RangeIndex: 3271 entries, 0 to 3270\n",
            "Data columns (total 21 columns):\n",
            " #   Column         Non-Null Count  Dtype  \n",
            "---  ------         --------------  -----  \n",
            " 0   Date           3271 non-null   object \n",
            " 1   Temp9am        3271 non-null   float64\n",
            " 2   Temp3pm        3271 non-null   float64\n",
            " 3   MinTemp        3271 non-null   float64\n",
            " 4   MaxTemp        3271 non-null   float64\n",
            " 5   Rainfall       3271 non-null   float64\n",
            " 6   RainToday      3271 non-null   object \n",
            " 7   Evaporation    3271 non-null   float64\n",
            " 8   Sunshine       3271 non-null   float64\n",
            " 9   WindGustDir    3271 non-null   object \n",
            " 10  WindGustSpeed  3271 non-null   int64  \n",
            " 11  WindDir9am     3271 non-null   object \n",
            " 12  WindDir3pm     3271 non-null   object \n",
            " 13  WindSpeed9am   3271 non-null   int64  \n",
            " 14  WindSpeed3pm   3271 non-null   int64  \n",
            " 15  Humidity9am    3271 non-null   int64  \n",
            " 16  Humidity3pm    3271 non-null   int64  \n",
            " 17  Pressure9am    3271 non-null   float64\n",
            " 18  Pressure3pm    3271 non-null   float64\n",
            " 19  Cloud9am       3271 non-null   int64  \n",
            " 20  Cloud3pm       3271 non-null   int64  \n",
            "dtypes: float64(9), int64(7), object(5)\n",
            "memory usage: 536.8+ KB\n"
          ]
        }
      ],
      "source": [
        "df.info()"
      ]
    },
    {
      "cell_type": "markdown",
      "metadata": {
        "id": "Qs6i-DDYbH-X"
      },
      "source": [
        "### Breakdown dataset into each year dataframe"
      ]
    },
    {
      "cell_type": "code",
      "execution_count": 50,
      "metadata": {
        "colab": {
          "base_uri": "https://localhost:8080/"
        },
        "id": "07nBfr5dZ6Cq",
        "outputId": "5bceccce-6c83-472b-d2e1-59e7eedb02ff"
      },
      "outputs": [
        {
          "name": "stdout",
          "output_type": "stream",
          "text": [
            "2013: 334\n",
            "2014: 365\n",
            "2015: 365\n",
            "2016: 366\n",
            "2017: 365\n",
            "2018: 365\n",
            "2019: 365\n",
            "2020: 366\n",
            "2021: 365\n",
            "2022: 15\n"
          ]
        }
      ],
      "source": [
        "df['Date'] = pd.to_datetime(df['Date'], format='%d-%m-%y')\n",
        "\n",
        "df['Year'] = df['Date'].dt.year\n",
        "\n",
        "all_year_df = {}\n",
        "\n",
        "for year in df['Year'].unique():\n",
        "    all_year_df[year] = df[df['Year'] == year]\n",
        "\n",
        "for i in range(2013, 2023):\n",
        "  print(f\"{i}: {len(all_year_df[i])}\")"
      ]
    },
    {
      "cell_type": "markdown",
      "metadata": {
        "id": "NQ7_EauYc5cu"
      },
      "source": [
        "The dataset contains unmatched data\n",
        "- Making each dataframe with similar number of entries.\n",
        "- Deleting the 2022 dataframe since it is a outlier."
      ]
    },
    {
      "cell_type": "code",
      "execution_count": 51,
      "metadata": {
        "colab": {
          "base_uri": "https://localhost:8080/"
        },
        "id": "iF8g3inlbHLf",
        "outputId": "c598ab45-8b87-44c1-d227-8dc86bc3c332"
      },
      "outputs": [
        {
          "name": "stdout",
          "output_type": "stream",
          "text": [
            "2013: 330\n",
            "2014: 330\n",
            "2015: 330\n",
            "2016: 330\n",
            "2017: 330\n",
            "2018: 330\n",
            "2019: 330\n",
            "2020: 330\n",
            "2021: 330\n",
            "2022: 0\n"
          ]
        }
      ],
      "source": [
        "# Deleting the 2022 dataset since it is an outlier\n",
        "\n",
        "for year in df['Year'].unique():\n",
        "    all_year_df[year] = df[df['Year'] == year].head(330)\n",
        "\n",
        "del all_year_df[2022]\n",
        "\n",
        "for i in range(2013, 2023):\n",
        "    if i in all_year_df:  # Correct way to check if a key exists\n",
        "        print(f\"{i}: {len(all_year_df[i])}\")\n",
        "    else:\n",
        "        print(f\"{i}: 0\")"
      ]
    },
    {
      "cell_type": "markdown",
      "metadata": {},
      "source": [
        "## Adding additional columns"
      ]
    },
    {
      "cell_type": "code",
      "execution_count": 52,
      "metadata": {},
      "outputs": [],
      "source": [
        "for year in df['Year'].unique():\n",
        "\n",
        "    year_df = df[df['Year'] == year].copy()\n",
        "    \n",
        "    # humidityIncrease column \n",
        "    year_df['humidityIncrease'] = year_df['Humidity3pm'] > year_df['Humidity9am']\n",
        "    all_year_df[year] = year_df"
      ]
    },
    {
      "cell_type": "code",
      "execution_count": 53,
      "metadata": {},
      "outputs": [
        {
          "name": "stdout",
          "output_type": "stream",
          "text": [
            "        Date  Temp9am  Temp3pm  MinTemp  MaxTemp  Rainfall RainToday  \\\n",
            "0 2013-02-01     20.7     20.9     19.5     22.4      15.6       Yes   \n",
            "1 2013-02-02     22.4     24.8     19.5     25.6       6.0       Yes   \n",
            "2 2013-02-03     23.5     23.0     21.6     24.5       6.6       Yes   \n",
            "3 2013-02-04     21.4     20.9     20.2     22.8      18.8       Yes   \n",
            "4 2013-02-05     22.5     25.5     19.7     25.7      77.4       Yes   \n",
            "\n",
            "   Evaporation  Sunshine WindGustDir  ...  WindSpeed9am WindSpeed3pm  \\\n",
            "0          6.2       0.0           W  ...            17           20   \n",
            "1          3.4       2.7           W  ...             9           13   \n",
            "2          2.4       0.1           W  ...            17            2   \n",
            "3          2.2       0.0           W  ...            22           20   \n",
            "4          4.8       0.0           W  ...            11            6   \n",
            "\n",
            "  Humidity9am  Humidity3pm  Pressure9am  Pressure3pm  Cloud9am  Cloud3pm  \\\n",
            "0          92           84       1017.6       1017.4         8         8   \n",
            "1          83           73       1017.9       1016.4         7         7   \n",
            "2          88           86       1016.7       1015.6         7         8   \n",
            "3          83           90       1014.2       1011.8         8         8   \n",
            "4          88           74       1008.3       1004.8         8         8   \n",
            "\n",
            "   Year  humidityIncrease  \n",
            "0  2013             False  \n",
            "1  2013             False  \n",
            "2  2013             False  \n",
            "3  2013              True  \n",
            "4  2013             False  \n",
            "\n",
            "[5 rows x 23 columns]\n"
          ]
        }
      ],
      "source": [
        "print(all_year_df[2013].head())"
      ]
    },
    {
      "cell_type": "markdown",
      "metadata": {
        "id": "zjrj3T5HadIR"
      },
      "source": [
        "## <ins> Breakdown the data </ins>\n",
        "\n",
        "### <ins> Analysis and information about the data </ins>\n",
        "As per my view after several read through of the dataset:\n",
        "- It contains weather data for ten consecutive years ranging from 2013 to 2022.\n",
        "\n",
        "### Procedures:\n",
        "- Here, I had separated the data into ten different data frames.\n",
        "- Comparison among the each of the year's data and take insights. At this moment, I've accumulated five innovative analysis questions as follows:\n",
        "\n",
        "  1. The year that had a maximum and minimum average temperature.\n",
        "  2. The year with most sunny days.\n",
        "  3. The year with the most humidity and minimum humidity.\n",
        "  4. The year with most rainy days.\n",
        "  5. The year with most rainfall.\n"
      ]
    },
    {
      "cell_type": "markdown",
      "metadata": {
        "id": "B0QoxtdygWYt"
      },
      "source": []
    },
    {
      "cell_type": "markdown",
      "metadata": {
        "id": "6yuM_O28ga0E"
      },
      "source": [
        "# 1. <ins>**The year that had a maximum and minimum average temperature.**</ins>"
      ]
    },
    {
      "cell_type": "code",
      "execution_count": 54,
      "metadata": {
        "colab": {
          "base_uri": "https://localhost:8080/"
        },
        "id": "pQ6t6nUliHdE",
        "outputId": "a99541c5-14e0-4292-8c5c-c912fd6ee866"
      },
      "outputs": [
        {
          "name": "stdout",
          "output_type": "stream",
          "text": [
            "Maximum temperature: 45.8 in 2017\n",
            "Minimum temperature: 4.3 in 2015\n"
          ]
        }
      ],
      "source": [
        "max_temp = 0\n",
        "min_temp = float('inf') \n",
        "max_temp_year = 0\n",
        "min_temp_year = 0\n",
        "\n",
        "for i in range(2013, 2022):\n",
        "    if all_year_df[i]['MaxTemp'].max() >= max_temp:\n",
        "        max_temp = all_year_df[i]['MaxTemp'].max()\n",
        "        max_temp_year = i\n",
        "    if all_year_df[i]['MinTemp'].min() <= min_temp:\n",
        "        min_temp = all_year_df[i]['MinTemp'].min()\n",
        "        min_temp_year = i\n",
        "\n",
        "print(f\"Maximum temperature: {max_temp} in {max_temp_year}\")\n",
        "print(f\"Minimum temperature: {min_temp} in {min_temp_year}\")"
      ]
    },
    {
      "cell_type": "markdown",
      "metadata": {
        "id": "QpqIHYBTAhmU"
      },
      "source": [
        "Plot"
      ]
    },
    {
      "cell_type": "code",
      "execution_count": null,
      "metadata": {
        "id": "3Hm0yZpEAig8"
      },
      "outputs": [],
      "source": []
    },
    {
      "cell_type": "markdown",
      "metadata": {
        "id": "EFgJb6TmjCE8"
      },
      "source": [
        "# 2. <ins>**The year with maximum and minimum sunshine days.**</ins>\n",
        "\n",
        "- Sunshine refers to hours of bright sunshine recorded in a day."
      ]
    },
    {
      "cell_type": "code",
      "execution_count": 55,
      "metadata": {
        "id": "luZO-Io3iQXj"
      },
      "outputs": [
        {
          "name": "stdout",
          "output_type": "stream",
          "text": [
            "Maximum sunny year: 2018 with sunshine value: 13.6\n",
            "Minimum sunny year: 2021 with sunshine value: 0.0\n"
          ]
        }
      ],
      "source": [
        "max_sunshine_val = 0\n",
        "min_sunshine_val = float('inf')\n",
        "max_sunshine_year = 0\n",
        "min_sunshine_year = 0\n",
        "\n",
        "for i in range(2013, 2022):\n",
        "    if all_year_df[i]['Sunshine'].max() >= max_sunshine_val:\n",
        "        max_sunshine_val = all_year_df[i]['Sunshine'].max()\n",
        "        max_sunshine_year = i\n",
        "\n",
        "    if all_year_df[i]['Sunshine'].min() <= min_sunshine_val:\n",
        "        min_sunshine_val = all_year_df[i]['Sunshine'].min()\n",
        "        min_sunshine_year = i\n",
        "\n",
        "print(f\"Maximum sunny year: {max_sunshine_year} with sunshine value: {max_sunshine_val}\")\n",
        "print(f\"Minimum sunny year: {min_sunshine_year} with sunshine value: {min_sunshine_val}\")"
      ]
    },
    {
      "cell_type": "markdown",
      "metadata": {},
      "source": [
        "Plot"
      ]
    },
    {
      "cell_type": "code",
      "execution_count": null,
      "metadata": {},
      "outputs": [],
      "source": []
    },
    {
      "cell_type": "code",
      "execution_count": null,
      "metadata": {},
      "outputs": [],
      "source": []
    },
    {
      "cell_type": "markdown",
      "metadata": {},
      "source": [
        "# 3. <ins>**Humidity correlation**</ins>\n",
        "\n",
        "The humidity difference can lead to discomfort. If humidity in afternoon (3 PM) is grater than morning (9 AM) can lead to rainy or stormy weather. "
      ]
    },
    {
      "cell_type": "code",
      "execution_count": 56,
      "metadata": {},
      "outputs": [
        {
          "name": "stdout",
          "output_type": "stream",
          "text": [
            "Most humidity increase year is 2016 with 57 days.\n",
            "Least humidity increase year is 2014 with 34 days.\n"
          ]
        }
      ],
      "source": [
        "most_humidity_year = 0\n",
        "max_humidity_day_cnt = 0\n",
        "\n",
        "least_humidity_year = 0\n",
        "min_humidity_day_cnt = float('inf')  \n",
        "\n",
        "for year in range(2013, 2022):\n",
        "    true_count = all_year_df[year]['humidityIncrease'].sum()\n",
        "\n",
        "    if true_count > max_humidity_day_cnt:\n",
        "        max_humidity_day_cnt = true_count\n",
        "        most_humidity_year = year\n",
        "\n",
        "    if true_count < min_humidity_day_cnt:\n",
        "        min_humidity_day_cnt = true_count\n",
        "        least_humidity_year = year\n",
        "\n",
        "print(f\"Most humidity increase year is {most_humidity_year} with {max_humidity_day_cnt} days.\")\n",
        "print(f\"Least humidity increase year is {least_humidity_year} with {min_humidity_day_cnt} days.\")\n",
        "\n"
      ]
    },
    {
      "cell_type": "code",
      "execution_count": 57,
      "metadata": {},
      "outputs": [
        {
          "name": "stdout",
          "output_type": "stream",
          "text": [
            "The year with the most rainy days is 2016 with 111 rainy days.\n",
            "The year with the least rainy days is 2017 with 78 rainy days.\n",
            "2014 rainy day count: 86\n"
          ]
        }
      ],
      "source": [
        "most_rainy_year = 0\n",
        "max_rainy_days = 0\n",
        "\n",
        "least_rainy_year = 0\n",
        "min_rainy_days = float('inf') \n",
        "\n",
        "for year in range(2013, 2022):\n",
        "    rainy_days_count = all_year_df[year]['RainToday'].value_counts().get('Yes', 0)\n",
        "    \n",
        "    if rainy_days_count > max_rainy_days:\n",
        "        max_rainy_days = rainy_days_count\n",
        "        most_rainy_year = year\n",
        "\n",
        "    if rainy_days_count < min_rainy_days:\n",
        "        min_rainy_days = rainy_days_count\n",
        "        least_rainy_year = year\n",
        "\n",
        "print(f\"The year with the most rainy days is {most_rainy_year} with {max_rainy_days} rainy days.\")\n",
        "print(f\"The year with the least rainy days is {least_rainy_year} with {min_rainy_days} rainy days.\")\n",
        "print(f\"2014 rainy day count: {all_year_df[2014]['RainToday'].value_counts().get('Yes', 0)}\")"
      ]
    }
  ],
  "metadata": {
    "accelerator": "TPU",
    "colab": {
      "gpuType": "V28",
      "provenance": []
    },
    "kernelspec": {
      "display_name": "Python 3",
      "name": "python3"
    },
    "language_info": {
      "codemirror_mode": {
        "name": "ipython",
        "version": 3
      },
      "file_extension": ".py",
      "mimetype": "text/x-python",
      "name": "python",
      "nbconvert_exporter": "python",
      "pygments_lexer": "ipython3",
      "version": "3.11.5"
    }
  },
  "nbformat": 4,
  "nbformat_minor": 0
}
